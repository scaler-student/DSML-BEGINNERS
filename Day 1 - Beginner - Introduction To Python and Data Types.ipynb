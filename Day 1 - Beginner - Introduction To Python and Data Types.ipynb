{
 "cells": [
  {
   "cell_type": "markdown",
   "id": "ad1ebac1",
   "metadata": {},
   "source": [
    "### Python Introduction\n",
    "\n",
    "1. Python is a case sensitive language"
   ]
  },
  {
   "cell_type": "markdown",
   "id": "dc24c095",
   "metadata": {},
   "source": [
    "##### 1. Primitive DataTypes\n",
    "##### 2. Variables\n",
    "##### 3. TypeCasting\n",
    "##### 4. Print\n",
    "##### 5. Input\n",
    "\n",
    "###### 1. Primitive DataTypes\n",
    "\n",
    "1. Integers\n",
    "2. Strings\n",
    "3. Bool\n",
    "4. None\n",
    "5. Float"
   ]
  },
  {
   "cell_type": "code",
   "execution_count": 4,
   "id": "9129ea53",
   "metadata": {},
   "outputs": [
    {
     "name": "stdout",
     "output_type": "stream",
     "text": [
      "<class 'int'>\n",
      "<class 'int'>\n",
      "<class 'int'>\n",
      "<class 'int'>\n"
     ]
    }
   ],
   "source": [
    "# INTEGER: You can use an integer represent numeric data and more specifically whole numbers from negative infinity to infinity, like 4,5, or -1\n",
    "\n",
    "print(type(3))\n",
    "print(type(-3))\n",
    "print(type(+3))\n",
    "print(type(0))"
   ]
  },
  {
   "cell_type": "code",
   "execution_count": 6,
   "id": "1d92d934",
   "metadata": {},
   "outputs": [
    {
     "name": "stdout",
     "output_type": "stream",
     "text": [
      "<class 'float'>\n",
      "<class 'float'>\n",
      "<class 'float'>\n",
      "<class 'float'>\n",
      "<class 'float'>\n"
     ]
    }
   ],
   "source": [
    "# FLOAT: Floating point number, You can use it for rational number, usually ending with the decimal figure as 1.0 or 3.14\n",
    "\n",
    "print(type(0.0))\n",
    "print(type(3.0))\n",
    "print(type(3.1))\n",
    "print(type(03.2))\n",
    "print(type(-3.333))"
   ]
  },
  {
   "cell_type": "code",
   "execution_count": 8,
   "id": "d487dd77",
   "metadata": {},
   "outputs": [
    {
     "name": "stdout",
     "output_type": "stream",
     "text": [
      "<class 'str'>\n",
      "<class 'str'>\n",
      "<class 'str'>\n",
      "<class 'str'>\n",
      "<class 'str'>\n",
      "<class 'str'>\n",
      "<class 'str'>\n"
     ]
    }
   ],
   "source": [
    "#STRINGS: Strings are collections of alphabets,words or other characters. In Python we cab create a string by enclosing in a sequence of characters within a pair of single or double quotes. Like :: 'Cake' , \"cake\".etc...\n",
    "\n",
    "print(type('s'))\n",
    "print(type('string'))\n",
    "print(type(\"string\"))\n",
    "print(type('1.0'))\n",
    "print(type(\"1.111\"))\n",
    "print(type('True'))\n",
    "print(type('None'))"
   ]
  },
  {
   "cell_type": "code",
   "execution_count": 15,
   "id": "f8f9a538",
   "metadata": {},
   "outputs": [
    {
     "name": "stdout",
     "output_type": "stream",
     "text": [
      "<class 'NoneType'>\n",
      "World\n"
     ]
    },
    {
     "data": {
      "text/plain": [
       "NoneType"
      ]
     },
     "execution_count": 15,
     "metadata": {},
     "output_type": "execute_result"
    }
   ],
   "source": [
    "#NONE: The None keyword is used to define a null value or no value at all. None is not the same as 0.False or an empty string. None is a data type of its own(None Type) and only None can be none\n",
    "\n",
    "print(type(None))\n",
    "type(print(\"World\")) ##NoneType"
   ]
  },
  {
   "cell_type": "code",
   "execution_count": 25,
   "id": "7af63d4a",
   "metadata": {},
   "outputs": [
    {
     "name": "stdout",
     "output_type": "stream",
     "text": [
      "True\n",
      "False\n",
      "False\n",
      "False\n",
      "True\n",
      "True\n",
      "True\n",
      "True\n",
      "True\n",
      "False\n",
      "True\n",
      "True\n"
     ]
    }
   ],
   "source": [
    "#BOOLEAN: This is buit-in-data type. That can take up the values: True or False. Which often makes them interchangeable with the integers 1 and 0. Booleans are useful in conditional and comparison expressions\n",
    "\n",
    "print(bool(True))\n",
    "print(bool(False))\n",
    "print(bool(0))\n",
    "print(bool(0.0))\n",
    "print(bool(1))\n",
    "print(bool(\"text\"))\n",
    "print(bool(-1))\n",
    "print(bool(\"-1\"))\n",
    "print(bool(\"0\"))\n",
    "print(bool(\"\"))\n",
    "print(bool(\" \"))\n",
    "print(bool(\"1.3\"))"
   ]
  },
  {
   "cell_type": "code",
   "execution_count": 33,
   "id": "a6a1c4ed",
   "metadata": {},
   "outputs": [
    {
     "name": "stdout",
     "output_type": "stream",
     "text": [
      "33\n",
      "unknowndevqa\n",
      "<class 'str'>\n",
      "unknowqa\n",
      "22\n",
      "unknownqa1\n"
     ]
    }
   ],
   "source": [
    "# VARIABLES: It's a type of variables Rules for naming variables\n",
    "# Name must start with Alphabet(small or caps) or underscore\n",
    "# They are case sensitive. It can differentiate between small and caps\n",
    "\n",
    "a = 33\n",
    "print(a)\n",
    "name = \"unknowndevqa\"\n",
    "print(name)\n",
    "print(type(name))\n",
    "name = \"unknowqa\"\n",
    "print(name)\n",
    "A = 22\n",
    "print(A)\n",
    "_name = \"unknownqa1\"\n",
    "print(_name)"
   ]
  },
  {
   "cell_type": "code",
   "execution_count": 38,
   "id": "afd47346",
   "metadata": {},
   "outputs": [
    {
     "name": "stdout",
     "output_type": "stream",
     "text": [
      "<class 'int'>\n",
      "<class 'str'>\n",
      "<class 'int'>\n"
     ]
    }
   ],
   "source": [
    "#TypeCasting\n",
    "\n",
    "a = 13\n",
    "print(type(a))\n",
    "a = str(13)\n",
    "print(type(a))\n",
    "a = int(13)\n",
    "print(type(a))"
   ]
  },
  {
   "cell_type": "code",
   "execution_count": 58,
   "id": "b4022baf",
   "metadata": {},
   "outputs": [
    {
     "name": "stdout",
     "output_type": "stream",
     "text": [
      "Anil Simha Tallapragada\n",
      "--------------------------\n",
      "Anil---Simha---Tallapragada\n",
      "--------------------------\n",
      "Anil\n",
      "Simha\n",
      "Tallapragada\n",
      "--------------------------\n",
      "Anil\n",
      "Simha\n",
      "Tallapragada\n",
      "--------------------------\n",
      "Anil***Simha***Tallapragada\n",
      "--------------------------\n"
     ]
    }
   ],
   "source": [
    "#PRINT ==> END, SEP\n",
    "\n",
    "print(\"Anil\",\"Simha\",\"Tallapragada\")\n",
    "print(\"--------------------------\")\n",
    "print(\"Anil\",\"Simha\",\"Tallapragada\",sep=\"---\")\n",
    "print(\"--------------------------\")\n",
    "print(\"Anil\",\"Simha\",\"Tallapragada\",sep=\"\\n\")\n",
    "print(\"--------------------------\")\n",
    "print(\"Anil\"), print(\"Simha\")\n",
    "print(\"Tallapragada\")\n",
    "print(\"--------------------------\")\n",
    "print(\"Anil\",end=\"***\"), print(\"Simha\", end = \"***\"), print(\"Tallapragada\")\n",
    "print(\"--------------------------\")\n"
   ]
  },
  {
   "cell_type": "code",
   "execution_count": 60,
   "id": "770a385b",
   "metadata": {},
   "outputs": [
    {
     "name": "stdout",
     "output_type": "stream",
     "text": [
      "2\n",
      "<class 'str'>\n"
     ]
    }
   ],
   "source": [
    "#INPUT: By default type of Input is String\n",
    "\n",
    "a = input()\n",
    "print(type(a))"
   ]
  },
  {
   "cell_type": "code",
   "execution_count": 66,
   "id": "debd699b",
   "metadata": {},
   "outputs": [
    {
     "name": "stdout",
     "output_type": "stream",
     "text": [
      "2\n",
      "<class 'int'>\n"
     ]
    }
   ],
   "source": [
    "b = int(input())\n",
    "print(type(b))"
   ]
  },
  {
   "cell_type": "code",
   "execution_count": 69,
   "id": "0bf3160f",
   "metadata": {},
   "outputs": [
    {
     "name": "stdout",
     "output_type": "stream",
     "text": [
      "2.23212\n",
      "<class 'float'>\n"
     ]
    }
   ],
   "source": [
    "c = float(input())\n",
    "print(type(c))"
   ]
  },
  {
   "cell_type": "code",
   "execution_count": 71,
   "id": "6709d3fd",
   "metadata": {},
   "outputs": [
    {
     "name": "stdout",
     "output_type": "stream",
     "text": [
      "0\n",
      "<class 'bool'>\n"
     ]
    }
   ],
   "source": [
    "d = bool(input())\n",
    "print(type(d))"
   ]
  },
  {
   "cell_type": "code",
   "execution_count": 72,
   "id": "7d655edc",
   "metadata": {},
   "outputs": [
    {
     "name": "stdout",
     "output_type": "stream",
     "text": [
      "3\n",
      "<class 'str'>\n"
     ]
    }
   ],
   "source": [
    "e = str(input())\n",
    "print(type(e))"
   ]
  },
  {
   "cell_type": "markdown",
   "id": "dbc187a6",
   "metadata": {},
   "source": [
    "### Assignments"
   ]
  },
  {
   "cell_type": "code",
   "execution_count": 73,
   "id": "2ce37044",
   "metadata": {},
   "outputs": [
    {
     "name": "stdout",
     "output_type": "stream",
     "text": [
      "1\n",
      "2\n",
      "12\n"
     ]
    }
   ],
   "source": [
    "#Q1: Given two numbers A and B. Concatenate the two numbers and print it.\n",
    "\n",
    "\n",
    "\n",
    "A = input()\n",
    "B = input()\n",
    "C = A+B\n",
    "print(C)"
   ]
  },
  {
   "cell_type": "code",
   "execution_count": 74,
   "id": "8fc7c3a0",
   "metadata": {},
   "outputs": [
    {
     "name": "stdout",
     "output_type": "stream",
     "text": [
      "6.0\n"
     ]
    }
   ],
   "source": [
    "#Q2: what will be the output of the following code?\n",
    "\n",
    "x = 4\n",
    "y = 2.0\n",
    "\n",
    "print(x+y)"
   ]
  },
  {
   "cell_type": "code",
   "execution_count": 80,
   "id": "fc6a766e",
   "metadata": {},
   "outputs": [
    {
     "name": "stdout",
     "output_type": "stream",
     "text": [
      "4.0\n"
     ]
    }
   ],
   "source": [
    "#Q3: which of the following will not raise a type TypeError in the following code?\n",
    "\n",
    "x = 2.0\n",
    "y = \"2\"\n",
    "z = int(y)\n",
    "#print(x+y) # Throws error as 'float' and 'str'\n",
    "#print(y+z) #Throws error\n",
    "print(x+z)"
   ]
  },
  {
   "cell_type": "markdown",
   "id": "56eb37c8",
   "metadata": {},
   "source": [
    "Q4: Your friend Rahul plans to visit exotic countries all around the world. Sadly, Rahul's math skills aren't good. He's pretty worried about being scammed by currency exchanges during his trip - and he wants you to make a currency calculator for him. Here are his specifications for the app:\n",
    "\n",
    "Given the amount of money before exchange and the amount of money that is taken from the budget to be exchanged, print the amount of money that is left from the budget.\n",
    "\n",
    "Input Format\n",
    "\n",
    "First line contains an integer N denoting the total budget, amount of money before exchange.\n",
    "\n",
    "Second line contains an integer M denoting the exchanging amount, denoting the amount of money that is taken from the budget to be exchanged."
   ]
  },
  {
   "cell_type": "code",
   "execution_count": 83,
   "id": "a2d40dd6",
   "metadata": {},
   "outputs": [
    {
     "name": "stdout",
     "output_type": "stream",
     "text": [
      "44\n",
      "12\n",
      "32\n"
     ]
    }
   ],
   "source": [
    "N = int(input())\n",
    "M = int(input())\n",
    "\n",
    "balanceAmount = N - M\n",
    "print(balanceAmount)"
   ]
  },
  {
   "cell_type": "code",
   "execution_count": 85,
   "id": "4d6b4c95",
   "metadata": {},
   "outputs": [
    {
     "name": "stdout",
     "output_type": "stream",
     "text": [
      "Anil\n",
      "Simha\n",
      "Anil says Hi to Simha\n"
     ]
    }
   ],
   "source": [
    "#Given two names A and B as input. Print \"A says Hi to B\". where A and B are the names in input.\n",
    "name1 = (input())\n",
    "name2 = (input())\n",
    "print(name1 + ' says Hi to ' + name2 )\n"
   ]
  },
  {
   "cell_type": "code",
   "execution_count": 86,
   "id": "9ad080e5",
   "metadata": {},
   "outputs": [
    {
     "name": "stdout",
     "output_type": "stream",
     "text": [
      "A\n",
      "B\n",
      "C\n",
      "D\n",
      "E\n"
     ]
    }
   ],
   "source": [
    "#Print the first five letters of the English alphabet i.e. A, B, C, D and E.\n",
    "print(\"A\")\n",
    "print(\"B\")\n",
    "print(\"C\")\n",
    "print(\"D\")\n",
    "print(\"E\")"
   ]
  },
  {
   "cell_type": "code",
   "execution_count": null,
   "id": "6407877f",
   "metadata": {},
   "outputs": [],
   "source": []
  }
 ],
 "metadata": {
  "kernelspec": {
   "display_name": "Python 3 (ipykernel)",
   "language": "python",
   "name": "python3"
  },
  "language_info": {
   "codemirror_mode": {
    "name": "ipython",
    "version": 3
   },
   "file_extension": ".py",
   "mimetype": "text/x-python",
   "name": "python",
   "nbconvert_exporter": "python",
   "pygments_lexer": "ipython3",
   "version": "3.10.1"
  }
 },
 "nbformat": 4,
 "nbformat_minor": 5
}
