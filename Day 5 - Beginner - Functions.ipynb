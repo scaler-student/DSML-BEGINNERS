{
 "cells": [
  {
   "cell_type": "markdown",
   "id": "79942dd3",
   "metadata": {},
   "source": [
    "#### Functions benifits:\n",
    "\n",
    "1. Reusable\n",
    "2. Saves Time\n",
    "3. DRY\n",
    "4. Remove redundency\n",
    "5. Scalable\n",
    "6. Anyone can use it\n",
    "\n",
    "#### Keyword Arguments\n",
    "##### Default parameters\n",
    "#### DocString\n",
    "#### Return Statement"
   ]
  },
  {
   "cell_type": "code",
   "execution_count": 1,
   "id": "27259e86",
   "metadata": {},
   "outputs": [
    {
     "name": "stdout",
     "output_type": "stream",
     "text": [
      "Peel the Banana\n",
      "Mix it with Milk and grind it\n"
     ]
    }
   ],
   "source": [
    "def fruit_shake():\n",
    "    print(\"Peel the Banana\")\n",
    "    print(\"Mix it with Milk and grind it\")\n",
    "fruit_shake()"
   ]
  },
  {
   "cell_type": "code",
   "execution_count": 5,
   "id": "c7b11631",
   "metadata": {},
   "outputs": [
    {
     "name": "stdout",
     "output_type": "stream",
     "text": [
      "Peel the peach\n",
      "Mix it with Milk and grind it\n"
     ]
    }
   ],
   "source": [
    "def fruit_shake(fruitName):\n",
    "    print(\"Peel the \" + fruitName )\n",
    "    print(\"Mix it with Milk and grind it\")\n",
    "fruit_shake(\"peach\")"
   ]
  },
  {
   "cell_type": "code",
   "execution_count": 6,
   "id": "b9f714eb",
   "metadata": {},
   "outputs": [
    {
     "name": "stdout",
     "output_type": "stream",
     "text": [
      "Peel the Seethaphal\n",
      "Mix it with Milk and grind it\n"
     ]
    }
   ],
   "source": [
    "fruitName = 'Seethaphal'\n",
    "def fruit_shake(fruitName):\n",
    "    print(\"Peel the \" + fruitName )\n",
    "    print(\"Mix it with Milk and grind it\")\n",
    "fruit_shake(fruitName)"
   ]
  },
  {
   "cell_type": "code",
   "execution_count": 7,
   "id": "62aa6eb4",
   "metadata": {},
   "outputs": [
    {
     "name": "stdout",
     "output_type": "stream",
     "text": [
      "Hey I am Anil\n"
     ]
    }
   ],
   "source": [
    "def intro(name):\n",
    "    print(\"Hey I am \"+ name)\n",
    "intro(\"Anil\")"
   ]
  },
  {
   "cell_type": "code",
   "execution_count": 8,
   "id": "f1d39304",
   "metadata": {},
   "outputs": [
    {
     "name": "stdout",
     "output_type": "stream",
     "text": [
      "Father is TVS\n",
      "Mother is PADMA\n",
      "Brother is Anil\n"
     ]
    }
   ],
   "source": [
    "def intros(father,mother,brother):\n",
    "    print(\"Father is\", father)\n",
    "    print(\"Mother is\", mother)\n",
    "    print(\"Brother is\", brother)\n",
    "intros(\"TVS\",\"PADMA\",\"Anil\")"
   ]
  },
  {
   "cell_type": "markdown",
   "id": "735e9246",
   "metadata": {},
   "source": [
    "##### Default parameters"
   ]
  },
  {
   "cell_type": "code",
   "execution_count": 13,
   "id": "5571fd14",
   "metadata": {},
   "outputs": [
    {
     "name": "stdout",
     "output_type": "stream",
     "text": [
      "Father is TVS\n",
      "Mother is PADMA\n",
      "Brother is Harry\n",
      "Father is TVS\n",
      "Mother is PADMA\n",
      "Brother is Potter\n"
     ]
    }
   ],
   "source": [
    "def family(father,mother,brother='Harry'):\n",
    "    print(\"Father is\", father)\n",
    "    print(\"Mother is\", mother)\n",
    "    print(\"Brother is\", brother)\n",
    "family(\"TVS\",\"PADMA\")\n",
    "family(\"TVS\",\"PADMA\",\"Potter\")"
   ]
  },
  {
   "cell_type": "markdown",
   "id": "9bcfe80f",
   "metadata": {},
   "source": [
    "#### Keyword Arguments"
   ]
  },
  {
   "cell_type": "code",
   "execution_count": 17,
   "id": "e1d77781",
   "metadata": {},
   "outputs": [
    {
     "name": "stdout",
     "output_type": "stream",
     "text": [
      "e x y z a b 2000\n"
     ]
    }
   ],
   "source": [
    "def food(starter,main,dessert,soups,paan,snacks,price):\n",
    "    print(starter,main,dessert,soups,paan,snacks,price)\n",
    "food(main='x',dessert='y',soups='z',paan='a',snacks='b',price=2000,starter='e')"
   ]
  },
  {
   "cell_type": "code",
   "execution_count": 19,
   "id": "9dbe26d2",
   "metadata": {},
   "outputs": [
    {
     "name": "stdout",
     "output_type": "stream",
     "text": [
      "3\n"
     ]
    }
   ],
   "source": [
    "def add(a,b):\n",
    "    '''\n",
    "    Please pass both the a & b in Integer\n",
    "    '''\n",
    "    print(a+b)\n",
    "add(1,2)"
   ]
  },
  {
   "cell_type": "markdown",
   "id": "26dc554b",
   "metadata": {},
   "source": [
    "##### Return Statement"
   ]
  },
  {
   "cell_type": "code",
   "execution_count": 23,
   "id": "852cc284",
   "metadata": {},
   "outputs": [
    {
     "data": {
      "text/plain": [
       "3"
      ]
     },
     "execution_count": 23,
     "metadata": {},
     "output_type": "execute_result"
    }
   ],
   "source": [
    "def add(a,b):\n",
    "    '''\n",
    "    Please pass both the a & b in Integer\n",
    "    '''\n",
    "    return(a+b)\n",
    "add(1,2)"
   ]
  },
  {
   "cell_type": "code",
   "execution_count": null,
   "id": "03d2c9b4",
   "metadata": {},
   "outputs": [],
   "source": [
    " "
   ]
  }
 ],
 "metadata": {
  "kernelspec": {
   "display_name": "Python 3 (ipykernel)",
   "language": "python",
   "name": "python3"
  },
  "language_info": {
   "codemirror_mode": {
    "name": "ipython",
    "version": 3
   },
   "file_extension": ".py",
   "mimetype": "text/x-python",
   "name": "python",
   "nbconvert_exporter": "python",
   "pygments_lexer": "ipython3",
   "version": "3.10.1"
  }
 },
 "nbformat": 4,
 "nbformat_minor": 5
}
