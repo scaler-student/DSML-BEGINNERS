{
 "cells": [
  {
   "cell_type": "markdown",
   "id": "afa92649",
   "metadata": {},
   "source": [
    "#### For Loop"
   ]
  },
  {
   "cell_type": "code",
   "execution_count": 17,
   "id": "1bd29c68",
   "metadata": {},
   "outputs": [],
   "source": [
    "#range(end) ==> range(start,end-1)\n",
    "#range(start,end) ==> range(start,end-1)\n",
    "#range(start,end,jump) ==> range(start,end-1,jump)"
   ]
  },
  {
   "cell_type": "code",
   "execution_count": 19,
   "id": "c6867b3a",
   "metadata": {},
   "outputs": [
    {
     "name": "stdout",
     "output_type": "stream",
     "text": [
      "0 1 2 3 4 5 6 7 8 9 "
     ]
    }
   ],
   "source": [
    "for i in range(10):\n",
    "    print(i,end=\" \")"
   ]
  },
  {
   "cell_type": "code",
   "execution_count": 20,
   "id": "a1e58eac",
   "metadata": {},
   "outputs": [
    {
     "name": "stdout",
     "output_type": "stream",
     "text": [
      "1 3 5 7 9 "
     ]
    }
   ],
   "source": [
    "for i in range(1,10,2):\n",
    "    print(i,end=\" \")"
   ]
  },
  {
   "cell_type": "code",
   "execution_count": 25,
   "id": "913adabd",
   "metadata": {},
   "outputs": [
    {
     "name": "stdout",
     "output_type": "stream",
     "text": [
      "2 4 6 8 "
     ]
    }
   ],
   "source": [
    "for i in range(1,10):\n",
    "    if i % 2 == 0:\n",
    "        print(i,end=\" \")"
   ]
  },
  {
   "cell_type": "code",
   "execution_count": 26,
   "id": "7133d305",
   "metadata": {},
   "outputs": [
    {
     "name": "stdout",
     "output_type": "stream",
     "text": [
      "1 3 5 7 9 "
     ]
    }
   ],
   "source": [
    "for i in range(1,10):\n",
    "    if i % 2 != 0:\n",
    "        print(i,end=\" \")"
   ]
  },
  {
   "cell_type": "code",
   "execution_count": 28,
   "id": "cd0b0ac8",
   "metadata": {},
   "outputs": [
    {
     "name": "stdout",
     "output_type": "stream",
     "text": [
      "10 9 8 7 6 5 4 3 2 1 "
     ]
    }
   ],
   "source": [
    "for i in range(10,0,-1):\n",
    "        print(i,end=\" \")"
   ]
  },
  {
   "cell_type": "code",
   "execution_count": 31,
   "id": "1d01fd21",
   "metadata": {},
   "outputs": [],
   "source": [
    "for i in range(10,0):\n",
    "        print(i,end=\" \")"
   ]
  },
  {
   "cell_type": "code",
   "execution_count": 33,
   "id": "5d69fae8",
   "metadata": {},
   "outputs": [
    {
     "name": "stdout",
     "output_type": "stream",
     "text": [
      "0\n",
      "1\n",
      "4\n",
      "9\n"
     ]
    }
   ],
   "source": [
    "n = 4\n",
    "\n",
    "for i in range(4):\n",
    "    print(i**2)"
   ]
  },
  {
   "cell_type": "code",
   "execution_count": 35,
   "id": "8a88e8ea",
   "metadata": {},
   "outputs": [
    {
     "name": "stdout",
     "output_type": "stream",
     "text": [
      "0 1 2 4 5 6 7 8 9 "
     ]
    }
   ],
   "source": [
    "# Continue and break\n",
    "\n",
    "for i in range(10):\n",
    "    if i == 3:\n",
    "        continue\n",
    "    print(i,end=\" \")"
   ]
  },
  {
   "cell_type": "code",
   "execution_count": 36,
   "id": "c79ed182",
   "metadata": {},
   "outputs": [
    {
     "name": "stdout",
     "output_type": "stream",
     "text": [
      "0 1 2 "
     ]
    }
   ],
   "source": [
    "for i in range(10):\n",
    "    if i == 3:\n",
    "        break\n",
    "    print(i,end=\" \")"
   ]
  },
  {
   "cell_type": "code",
   "execution_count": 42,
   "id": "665871ea",
   "metadata": {},
   "outputs": [
    {
     "name": "stdout",
     "output_type": "stream",
     "text": [
      "33\n"
     ]
    }
   ],
   "source": [
    "x = [30,1,2]\n",
    "total = 0\n",
    "for i in x:\n",
    "    total = total + i\n",
    "print(total)"
   ]
  },
  {
   "cell_type": "code",
   "execution_count": 44,
   "id": "ae04e036",
   "metadata": {},
   "outputs": [
    {
     "name": "stdout",
     "output_type": "stream",
     "text": [
      "# # # # "
     ]
    }
   ],
   "source": [
    "# Print:\n",
    "# # # #\n",
    "\n",
    "for i in range(4):\n",
    "    print(\"#\", end=\" \")"
   ]
  },
  {
   "cell_type": "code",
   "execution_count": 45,
   "id": "20dfb772",
   "metadata": {},
   "outputs": [
    {
     "name": "stdout",
     "output_type": "stream",
     "text": [
      "# # # # \n",
      "# # # # \n",
      "# # # # \n",
      "# # # # \n"
     ]
    }
   ],
   "source": [
    "# # # #\n",
    "# # # #\n",
    "# # # #\n",
    "# # # #\n",
    "\n",
    "for i in range(4):\n",
    "    print(\"#\", end=\" \")\n",
    "print()\n",
    "for i in range(4):\n",
    "    print(\"#\", end=\" \")\n",
    "print()\n",
    "for i in range(4):\n",
    "    print(\"#\", end=\" \")\n",
    "print()\n",
    "for i in range(4):\n",
    "    print(\"#\", end=\" \")\n",
    "print()"
   ]
  },
  {
   "cell_type": "code",
   "execution_count": 50,
   "id": "4e735e4d",
   "metadata": {},
   "outputs": [
    {
     "name": "stdout",
     "output_type": "stream",
     "text": [
      "# # # # \n",
      "# # # # \n",
      "# # # # \n",
      "# # # # \n"
     ]
    }
   ],
   "source": [
    "for i in range(4):\n",
    "    for j in range(4):\n",
    "        print(\"#\", end=\" \")\n",
    "    print()"
   ]
  },
  {
   "cell_type": "code",
   "execution_count": 62,
   "id": "d22266e6",
   "metadata": {},
   "outputs": [
    {
     "name": "stdout",
     "output_type": "stream",
     "text": [
      "1\n",
      "36\n",
      "1\n"
     ]
    }
   ],
   "source": [
    "T = int(input())\n",
    "count = 0\n",
    "for i in range(1,T+1):\n",
    "    n = int(input())\n",
    "    n//=10\n",
    "    count += 1\n",
    "    print(count)"
   ]
  },
  {
   "cell_type": "code",
   "execution_count": 90,
   "id": "34ebf529",
   "metadata": {},
   "outputs": [
    {
     "name": "stdout",
     "output_type": "stream",
     "text": [
      "2\n",
      "33\n",
      "2\n",
      "369\n",
      "3\n"
     ]
    }
   ],
   "source": [
    "T = int(input())\n",
    "\n",
    "for i in range(1,T+1):\n",
    "    count = 0\n",
    "    N = int(input())\n",
    "    if N ==0:\n",
    "        count = 1\n",
    "    while N > 0:\n",
    "        count += 1\n",
    "        N//=10\n",
    "    print(count)"
   ]
  },
  {
   "cell_type": "code",
   "execution_count": 100,
   "id": "872059f3",
   "metadata": {},
   "outputs": [
    {
     "name": "stdout",
     "output_type": "stream",
     "text": [
      "2\n",
      "33\n",
      "6\n",
      "69\n",
      "15\n"
     ]
    }
   ],
   "source": [
    "T = int(input())\n",
    "for i in range(T):\n",
    "    sum = 0\n",
    "    num = int(input())\n",
    "    if num ==0:\n",
    "        count = 0\n",
    "    while num >0:\n",
    "        digit = int(num%10)\n",
    "        sum += digit\n",
    "        num = num/10\n",
    "    print(sum)"
   ]
  },
  {
   "cell_type": "code",
   "execution_count": 101,
   "id": "e17c0e5d",
   "metadata": {},
   "outputs": [
    {
     "name": "stdout",
     "output_type": "stream",
     "text": [
      "-6 -7 -8 -9 "
     ]
    }
   ],
   "source": [
    "for i in range(-6, -10, -1):\n",
    "     print(i, end =\" \")"
   ]
  },
  {
   "cell_type": "code",
   "execution_count": 102,
   "id": "aeadeeee",
   "metadata": {},
   "outputs": [],
   "source": [
    "x = 2\n",
    "for i in range(0, 4):\n",
    "    if x%2:\n",
    "       x = x*2\n",
    "    else:\n",
    "       x = x+1"
   ]
  },
  {
   "cell_type": "code",
   "execution_count": 104,
   "id": "cc741c05",
   "metadata": {},
   "outputs": [
    {
     "name": "stdout",
     "output_type": "stream",
     "text": [
      "6 A\n",
      "5 B\n",
      "5 C\n",
      "6 D\n"
     ]
    }
   ],
   "source": [
    "#Block A\n",
    "print((10//2)+1,\"A\")\n",
    "\n",
    "#Block B\n",
    "c=0\n",
    "for i in range(0, 10):\n",
    "    if i%2:\n",
    "        c=c+1\n",
    "print(c,\"B\")\n",
    "\n",
    "#Block C\n",
    "c=0\n",
    "for i in range(0, 10):\n",
    "    if i%2==0:\n",
    "        c=c+1\n",
    "print(c,\"C\")\n",
    "\n",
    "#Block D\n",
    "c=0\n",
    "for i in range(0, 11):\n",
    "    if i%2==0:\n",
    "        c=c+1\n",
    "print(c,\"D\")"
   ]
  },
  {
   "cell_type": "code",
   "execution_count": 105,
   "id": "7f2b32c0",
   "metadata": {},
   "outputs": [
    {
     "name": "stdout",
     "output_type": "stream",
     "text": [
      "a  a  c\n"
     ]
    }
   ],
   "source": [
    "for i in range(1):\n",
    "    for j in range(2):\n",
    "        for k in range(1):\n",
    "            print(\"a\", end=\" \")\n",
    "        print(end=\" \")\n",
    "    print(\"c\")"
   ]
  },
  {
   "cell_type": "code",
   "execution_count": 106,
   "id": "078da3ad",
   "metadata": {},
   "outputs": [
    {
     "name": "stdout",
     "output_type": "stream",
     "text": [
      "0 "
     ]
    }
   ],
   "source": [
    "x = 1\n",
    "for i in range(x):\n",
    "    x=x+1\n",
    "    print(i, end= \" \")"
   ]
  }
 ],
 "metadata": {
  "kernelspec": {
   "display_name": "Python 3 (ipykernel)",
   "language": "python",
   "name": "python3"
  },
  "language_info": {
   "codemirror_mode": {
    "name": "ipython",
    "version": 3
   },
   "file_extension": ".py",
   "mimetype": "text/x-python",
   "name": "python",
   "nbconvert_exporter": "python",
   "pygments_lexer": "ipython3",
   "version": "3.10.1"
  }
 },
 "nbformat": 4,
 "nbformat_minor": 5
}
