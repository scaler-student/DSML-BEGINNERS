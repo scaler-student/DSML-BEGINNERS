{
 "cells": [
  {
   "cell_type": "markdown",
   "id": "9cb6e5f0",
   "metadata": {},
   "source": [
    "#### Lists => [ ]"
   ]
  },
  {
   "cell_type": "code",
   "execution_count": 1,
   "id": "e904ca0f",
   "metadata": {},
   "outputs": [],
   "source": [
    "runs = [100,99,150,189,200,99,21,200]"
   ]
  },
  {
   "cell_type": "code",
   "execution_count": 2,
   "id": "c38f5ff4",
   "metadata": {},
   "outputs": [
    {
     "name": "stdout",
     "output_type": "stream",
     "text": [
      "100 99 150 189 200 99 21 200 "
     ]
    }
   ],
   "source": [
    "for i in runs:\n",
    "    print(i,end=\" \")"
   ]
  },
  {
   "cell_type": "code",
   "execution_count": 4,
   "id": "f6bb930e",
   "metadata": {},
   "outputs": [
    {
     "data": {
      "text/plain": [
       "8"
      ]
     },
     "execution_count": 4,
     "metadata": {},
     "output_type": "execute_result"
    }
   ],
   "source": [
    "len(runs)"
   ]
  },
  {
   "cell_type": "code",
   "execution_count": 7,
   "id": "9d46dab3",
   "metadata": {},
   "outputs": [
    {
     "data": {
      "text/plain": [
       "[100, 99, 150, 189, 200, 99, 21, 200]"
      ]
     },
     "execution_count": 7,
     "metadata": {},
     "output_type": "execute_result"
    }
   ],
   "source": [
    "runs"
   ]
  },
  {
   "cell_type": "code",
   "execution_count": 8,
   "id": "7ea62091",
   "metadata": {},
   "outputs": [
    {
     "data": {
      "text/plain": [
       "99"
      ]
     },
     "execution_count": 8,
     "metadata": {},
     "output_type": "execute_result"
    }
   ],
   "source": [
    "runs[1]"
   ]
  },
  {
   "cell_type": "code",
   "execution_count": 9,
   "id": "db109e58",
   "metadata": {},
   "outputs": [],
   "source": [
    "runs.append(100)"
   ]
  },
  {
   "cell_type": "code",
   "execution_count": 10,
   "id": "34e24100",
   "metadata": {},
   "outputs": [
    {
     "data": {
      "text/plain": [
       "[100, 99, 150, 189, 200, 99, 21, 200, 100]"
      ]
     },
     "execution_count": 10,
     "metadata": {},
     "output_type": "execute_result"
    }
   ],
   "source": [
    "runs"
   ]
  },
  {
   "cell_type": "code",
   "execution_count": 11,
   "id": "c04a0cee",
   "metadata": {},
   "outputs": [
    {
     "data": {
      "text/plain": [
       "9"
      ]
     },
     "execution_count": 11,
     "metadata": {},
     "output_type": "execute_result"
    }
   ],
   "source": [
    "len(runs)"
   ]
  },
  {
   "cell_type": "code",
   "execution_count": 12,
   "id": "c429c1b9",
   "metadata": {},
   "outputs": [
    {
     "data": {
      "text/plain": [
       "int"
      ]
     },
     "execution_count": 12,
     "metadata": {},
     "output_type": "execute_result"
    }
   ],
   "source": [
    "type(runs[0])"
   ]
  },
  {
   "cell_type": "code",
   "execution_count": 13,
   "id": "597a8371",
   "metadata": {},
   "outputs": [
    {
     "data": {
      "text/plain": [
       "100"
      ]
     },
     "execution_count": 13,
     "metadata": {},
     "output_type": "execute_result"
    }
   ],
   "source": [
    "runs[-1]"
   ]
  },
  {
   "cell_type": "code",
   "execution_count": 14,
   "id": "a68346e2",
   "metadata": {},
   "outputs": [
    {
     "data": {
      "text/plain": [
       "100"
      ]
     },
     "execution_count": 14,
     "metadata": {},
     "output_type": "execute_result"
    }
   ],
   "source": [
    "runs[-len(runs)]"
   ]
  },
  {
   "cell_type": "code",
   "execution_count": 15,
   "id": "6e87b0b5",
   "metadata": {},
   "outputs": [],
   "source": [
    "runs.insert(2,101)"
   ]
  },
  {
   "cell_type": "code",
   "execution_count": 16,
   "id": "8031f845",
   "metadata": {},
   "outputs": [
    {
     "data": {
      "text/plain": [
       "[100, 99, 101, 150, 189, 200, 99, 21, 200, 100]"
      ]
     },
     "execution_count": 16,
     "metadata": {},
     "output_type": "execute_result"
    }
   ],
   "source": [
    "runs"
   ]
  },
  {
   "cell_type": "code",
   "execution_count": 17,
   "id": "98b77136",
   "metadata": {},
   "outputs": [
    {
     "data": {
      "text/plain": [
       "100"
      ]
     },
     "execution_count": 17,
     "metadata": {},
     "output_type": "execute_result"
    }
   ],
   "source": [
    "runs.pop()"
   ]
  },
  {
   "cell_type": "code",
   "execution_count": 18,
   "id": "18024507",
   "metadata": {},
   "outputs": [
    {
     "data": {
      "text/plain": [
       "200"
      ]
     },
     "execution_count": 18,
     "metadata": {},
     "output_type": "execute_result"
    }
   ],
   "source": [
    "runs.pop()"
   ]
  },
  {
   "cell_type": "code",
   "execution_count": 19,
   "id": "52f59669",
   "metadata": {},
   "outputs": [
    {
     "data": {
      "text/plain": [
       "21"
      ]
     },
     "execution_count": 19,
     "metadata": {},
     "output_type": "execute_result"
    }
   ],
   "source": [
    "runs.pop()"
   ]
  },
  {
   "cell_type": "code",
   "execution_count": 20,
   "id": "71242508",
   "metadata": {},
   "outputs": [
    {
     "data": {
      "text/plain": [
       "100"
      ]
     },
     "execution_count": 20,
     "metadata": {},
     "output_type": "execute_result"
    }
   ],
   "source": [
    "runs.pop(0)"
   ]
  },
  {
   "cell_type": "code",
   "execution_count": 25,
   "id": "9b7a720a",
   "metadata": {},
   "outputs": [
    {
     "data": {
      "text/plain": [
       "[99, 101, 150, 189, 200, 99]"
      ]
     },
     "execution_count": 25,
     "metadata": {},
     "output_type": "execute_result"
    }
   ],
   "source": [
    "runs"
   ]
  },
  {
   "cell_type": "code",
   "execution_count": 26,
   "id": "625ab3d6",
   "metadata": {},
   "outputs": [],
   "source": [
    "runs.remove(99)"
   ]
  },
  {
   "cell_type": "code",
   "execution_count": 27,
   "id": "e8b09294",
   "metadata": {},
   "outputs": [
    {
     "data": {
      "text/plain": [
       "[101, 150, 189, 200, 99]"
      ]
     },
     "execution_count": 27,
     "metadata": {},
     "output_type": "execute_result"
    }
   ],
   "source": [
    "runs"
   ]
  },
  {
   "cell_type": "code",
   "execution_count": 28,
   "id": "4e85e7f5",
   "metadata": {},
   "outputs": [],
   "source": [
    "runs.remove(99)"
   ]
  },
  {
   "cell_type": "code",
   "execution_count": 29,
   "id": "0890cb7c",
   "metadata": {},
   "outputs": [
    {
     "data": {
      "text/plain": [
       "[101, 150, 189, 200]"
      ]
     },
     "execution_count": 29,
     "metadata": {},
     "output_type": "execute_result"
    }
   ],
   "source": [
    "runs"
   ]
  },
  {
   "cell_type": "code",
   "execution_count": 35,
   "id": "5b662d25",
   "metadata": {},
   "outputs": [
    {
     "name": "stdout",
     "output_type": "stream",
     "text": [
      "5 1 2 3 4 5\n",
      "5\n"
     ]
    }
   ],
   "source": [
    "N = list(map(int,input().split()))\n",
    "\n",
    "length_of_N = N.pop(0)\n",
    "\n",
    "print(length_of_N)"
   ]
  },
  {
   "cell_type": "code",
   "execution_count": 34,
   "id": "7a888a7f",
   "metadata": {},
   "outputs": [
    {
     "data": {
      "text/plain": [
       "int"
      ]
     },
     "execution_count": 34,
     "metadata": {},
     "output_type": "execute_result"
    }
   ],
   "source": [
    "type(N[0])"
   ]
  },
  {
   "cell_type": "code",
   "execution_count": 37,
   "id": "8fda542c",
   "metadata": {},
   "outputs": [
    {
     "name": "stdout",
     "output_type": "stream",
     "text": [
      "5 1 2 3 4 5\n",
      "20\n"
     ]
    }
   ],
   "source": [
    "N = list(map(int,input().split()))\n",
    "total = 0\n",
    "for i in N:\n",
    "    total += i\n",
    "print(total)"
   ]
  },
  {
   "cell_type": "code",
   "execution_count": null,
   "id": "07ecbf38",
   "metadata": {},
   "outputs": [],
   "source": []
  }
 ],
 "metadata": {
  "kernelspec": {
   "display_name": "Python 3 (ipykernel)",
   "language": "python",
   "name": "python3"
  },
  "language_info": {
   "codemirror_mode": {
    "name": "ipython",
    "version": 3
   },
   "file_extension": ".py",
   "mimetype": "text/x-python",
   "name": "python",
   "nbconvert_exporter": "python",
   "pygments_lexer": "ipython3",
   "version": "3.10.1"
  }
 },
 "nbformat": 4,
 "nbformat_minor": 5
}
