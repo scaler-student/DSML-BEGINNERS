{
 "cells": [
  {
   "cell_type": "markdown",
   "id": "fbd15351",
   "metadata": {},
   "source": [
    "##### LOOPS\n",
    "\n",
    "1. While "
   ]
  },
  {
   "cell_type": "code",
   "execution_count": 6,
   "id": "9da8af13",
   "metadata": {},
   "outputs": [
    {
     "name": "stdout",
     "output_type": "stream",
     "text": [
      "Boom Boom Boom\n",
      "Boom Boom Boom\n",
      "Boom Boom Boom\n",
      "Boom Boom Boom\n",
      "Boom Boom Boom\n"
     ]
    }
   ],
   "source": [
    "count = 0\n",
    "while count<5:\n",
    "    print(\"Boom Boom Boom\")\n",
    "    count +=1"
   ]
  },
  {
   "cell_type": "code",
   "execution_count": 10,
   "id": "b7125976",
   "metadata": {},
   "outputs": [
    {
     "name": "stdout",
     "output_type": "stream",
     "text": [
      "1 2 3 4 5 6 7 8 9 10 "
     ]
    }
   ],
   "source": [
    "#print numbers from 1 to 10\n",
    "\n",
    "number = 1\n",
    "\n",
    "while number <=10:\n",
    "    print(number, end = \" \")\n",
    "    number +=1"
   ]
  },
  {
   "cell_type": "code",
   "execution_count": 16,
   "id": "4ca3b97b",
   "metadata": {},
   "outputs": [
    {
     "name": "stdout",
     "output_type": "stream",
     "text": [
      "10 9 8 7 6 5 4 3 2 1 "
     ]
    }
   ],
   "source": [
    "#print numbers from 10 to 1\n",
    "\n",
    "number = 10\n",
    "\n",
    "while number >=1:\n",
    "    print(number, end = \" \")\n",
    "    number -=1"
   ]
  },
  {
   "cell_type": "code",
   "execution_count": 21,
   "id": "e5864d09",
   "metadata": {},
   "outputs": [
    {
     "name": "stdout",
     "output_type": "stream",
     "text": [
      "2\n",
      "4\n",
      "6\n",
      "8\n",
      "10\n"
     ]
    }
   ],
   "source": [
    "#Print all even numbers between 1 to 10\n",
    "\n",
    "even_number = 1\n",
    "\n",
    "while even_number <=10:\n",
    "    if even_number % 2 == 0:\n",
    "        print(even_number)\n",
    "    even_number += 1"
   ]
  },
  {
   "cell_type": "code",
   "execution_count": 22,
   "id": "6e6b011b",
   "metadata": {},
   "outputs": [
    {
     "name": "stdout",
     "output_type": "stream",
     "text": [
      "1\n",
      "3\n",
      "5\n",
      "7\n",
      "9\n"
     ]
    }
   ],
   "source": [
    "#Print all odd numbers between 1 to 10\n",
    "odd_number = 1\n",
    "\n",
    "while odd_number <=10:\n",
    "    if odd_number % 2 != 0:\n",
    "        print(odd_number)\n",
    "    odd_number += 1"
   ]
  },
  {
   "cell_type": "code",
   "execution_count": 29,
   "id": "e600cd31",
   "metadata": {},
   "outputs": [
    {
     "name": "stdout",
     "output_type": "stream",
     "text": [
      "354"
     ]
    }
   ],
   "source": [
    "#Print all digits in 453\n",
    "\n",
    "digit = 453\n",
    "\n",
    "while digit >0:\n",
    "    print(digit%10,end='')\n",
    "    digit //= 10"
   ]
  },
  {
   "cell_type": "code",
   "execution_count": 42,
   "id": "37eaa369",
   "metadata": {},
   "outputs": [
    {
     "name": "stdout",
     "output_type": "stream",
     "text": [
      "110\n"
     ]
    }
   ],
   "source": [
    "#Print sum of all even numbers from 0 to 20\n",
    "\n",
    "sum_even = 0\n",
    "even_num = 0\n",
    "\n",
    "while even_num <= 20:\n",
    "    if even_num % 2 == 0:\n",
    "        sum_even += even_num\n",
    "    even_num += 1\n",
    "print(sum_even)"
   ]
  },
  {
   "cell_type": "code",
   "execution_count": 49,
   "id": "d25ec4b1",
   "metadata": {},
   "outputs": [
    {
     "name": "stdout",
     "output_type": "stream",
     "text": [
      "5\n",
      "unknowndevqa\n",
      "unknowndevqa\n",
      "unknowndevqa\n",
      "unknowndevqa\n",
      "unknowndevqa\n"
     ]
    }
   ],
   "source": [
    "#Take n as input and print your name n times\n",
    "\n",
    "n = int(input())\n",
    "while n > 0 :\n",
    "    print(\"unknowndevqa\")\n",
    "    n -= 1"
   ]
  },
  {
   "cell_type": "code",
   "execution_count": 52,
   "id": "106d38a7",
   "metadata": {},
   "outputs": [
    {
     "name": "stdout",
     "output_type": "stream",
     "text": [
      "5 10 15 20 "
     ]
    }
   ],
   "source": [
    "#Print all multiples of 5 in range 1 to 20\n",
    "\n",
    "n = 1\n",
    "while n <=20:\n",
    "    if n % 5 == 0:\n",
    "        print(n, end=\" \")\n",
    "    n +=1"
   ]
  },
  {
   "cell_type": "code",
   "execution_count": 53,
   "id": "66c88579",
   "metadata": {},
   "outputs": [
    {
     "name": "stdout",
     "output_type": "stream",
     "text": [
      "2\n",
      "Your Name: unknowndevqa\n",
      "unknowndevqa\n",
      "Your Name: unknownqa\n",
      "unknownqa\n",
      "Your Name: unknowndev\n",
      "unknowndev\n"
     ]
    }
   ],
   "source": [
    "#Take n inputs from the user and also take names from users\n",
    "\n",
    "n = int(input())\n",
    "\n",
    "while n >= 0:\n",
    "    name = input(\"Your Name: \")\n",
    "    print(name)\n",
    "    n -= 1"
   ]
  },
  {
   "cell_type": "code",
   "execution_count": 70,
   "id": "a18f848f",
   "metadata": {},
   "outputs": [
    {
     "name": "stdout",
     "output_type": "stream",
     "text": [
      "20\n",
      "1 2 3 4 5 6 7 8 9 10 11 12 13 14 15 16 17 18 19 20 "
     ]
    }
   ],
   "source": [
    "#Write a program to print all Natural numbers from 1 to N where you have to take N as input from user\n",
    "N = int(input())\n",
    "natural_num = 1\n",
    "while natural_num <= N:\n",
    "    print(natural_num, end = \" \")\n",
    "    natural_num +=1"
   ]
  },
  {
   "cell_type": "code",
   "execution_count": 72,
   "id": "8f2da2ce",
   "metadata": {},
   "outputs": [
    {
     "name": "stdout",
     "output_type": "stream",
     "text": [
      "20\n",
      "1 3 5 7 9 11 13 15 17 19 "
     ]
    }
   ],
   "source": [
    "#Write a program to print all odd numbers from 1 to N where you have to take N as input from user.\n",
    "N = int(input())\n",
    "odd_num = 1\n",
    "while odd_num <= N:\n",
    "    if odd_num % 2 !=0:\n",
    "        print(odd_num, end = \" \")\n",
    "    odd_num +=1"
   ]
  },
  {
   "cell_type": "code",
   "execution_count": 73,
   "id": "e62a0f95",
   "metadata": {},
   "outputs": [
    {
     "name": "stdout",
     "output_type": "stream",
     "text": [
      "20\n",
      "210\n"
     ]
    }
   ],
   "source": [
    "#Write a program to find sum all Natural numbers from 1 to N where you have to take N as input from user\n",
    "\n",
    "N = int(input())\n",
    "\n",
    "print(N*(N+1)//2)"
   ]
  },
  {
   "cell_type": "code",
   "execution_count": 79,
   "id": "ce8ff942",
   "metadata": {},
   "outputs": [
    {
     "name": "stdout",
     "output_type": "stream",
     "text": [
      "10\n",
      "2\n",
      "4\n",
      "6\n",
      "8\n",
      "10\n"
     ]
    }
   ],
   "source": [
    "#Write a program to print all even numbers from 1 to N where you have to take N as input from user.\n",
    "\n",
    "N = int(input())\n",
    "\n",
    "even_num = 1\n",
    "\n",
    "while even_num <= N:\n",
    "    if even_num % 2 == 0:\n",
    "        print(even_num)\n",
    "    even_num += 1"
   ]
  },
  {
   "cell_type": "code",
   "execution_count": 103,
   "id": "65772624",
   "metadata": {},
   "outputs": [
    {
     "name": "stdout",
     "output_type": "stream",
     "text": [
      "10\n",
      "10 9 8 7 6 5 4 3 2 1 "
     ]
    }
   ],
   "source": [
    "#Write a program to print all Natural numbers from N to 1 where you have to take N as input from user\n",
    "\n",
    "N = int(input())\n",
    "while N >=1:\n",
    "    print(N,end=\" \")\n",
    "    N -=1"
   ]
  },
  {
   "cell_type": "code",
   "execution_count": 129,
   "id": "4900410e",
   "metadata": {},
   "outputs": [
    {
     "name": "stdout",
     "output_type": "stream",
     "text": [
      "10\n",
      "25\n"
     ]
    }
   ],
   "source": [
    "#You are given a positive integer A. You have to print the sum of all odd numbers in the range [1, A].\n",
    "\n",
    "A = int(input())\n",
    "\n",
    "initial_number = 1\n",
    "summ_odd = 0\n",
    "\n",
    "while initial_number <= A:\n",
    "    if initial_number % 2 != 0:\n",
    "        #print(initial_number,end=' ')\n",
    "        summ_odd += initial_number\n",
    "    initial_number +=1\n",
    "print(summ_odd)"
   ]
  },
  {
   "cell_type": "code",
   "execution_count": 131,
   "id": "6dfb37b6",
   "metadata": {},
   "outputs": [
    {
     "name": "stdout",
     "output_type": "stream",
     "text": [
      "2\n",
      "5\n",
      "32\n"
     ]
    }
   ],
   "source": [
    "#You are given two integers A and B. You have to find the value of A^B.\n",
    "\n",
    "A = int(input())\n",
    "B = int(input())\n",
    "\n",
    "print(A**B)"
   ]
  },
  {
   "cell_type": "code",
   "execution_count": null,
   "id": "1e0c6cea",
   "metadata": {},
   "outputs": [],
   "source": [
    "#Given an integer A, you have to tell whether it is a prime number or not."
   ]
  }
 ],
 "metadata": {
  "kernelspec": {
   "display_name": "Python 3 (ipykernel)",
   "language": "python",
   "name": "python3"
  },
  "language_info": {
   "codemirror_mode": {
    "name": "ipython",
    "version": 3
   },
   "file_extension": ".py",
   "mimetype": "text/x-python",
   "name": "python",
   "nbconvert_exporter": "python",
   "pygments_lexer": "ipython3",
   "version": "3.10.1"
  }
 },
 "nbformat": 4,
 "nbformat_minor": 5
}
