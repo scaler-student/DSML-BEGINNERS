{
 "cells": [
  {
   "cell_type": "markdown",
   "id": "49b00e53",
   "metadata": {},
   "source": [
    "##### 1. Arithmetic Operators\n",
    "1. Addition\n",
    "2. Subtraction\n",
    "3. Division\n",
    "4. Mod(%)\n",
    "5. Multiplication\n",
    "6. Floor Division(//)\n",
    "7. To the power(**)\n",
    "##### 2. Comparison Operators\n",
    "1. \"==\"\n",
    "2. \"!=\"\n",
    "3. \"<\"\n",
    "4. \">\"\n",
    "5. \"<=\"\n",
    "6. \">=\"\n",
    "##### 3. Assignment Operators\n",
    "1. \"-=\"\n",
    "2. \"+=\"\n",
    "3. \"/=\"\n",
    "4. \"*=\"\n",
    "5. \"//=\"\n",
    "###### 4. Logical Operators\n",
    "1. and\n",
    "2. or\n",
    "3. not\n",
    "##### 5. Conditional Statements\n",
    "1. if statement\n",
    "2. if-else statement\n",
    "3. if-elif-else"
   ]
  },
  {
   "cell_type": "markdown",
   "id": "628248be",
   "metadata": {},
   "source": [
    "###### Arithmetic Operators"
   ]
  },
  {
   "cell_type": "code",
   "execution_count": 1,
   "id": "9fcc2226",
   "metadata": {},
   "outputs": [],
   "source": [
    "a =8\n",
    "b =7"
   ]
  },
  {
   "cell_type": "code",
   "execution_count": 2,
   "id": "a01679e2",
   "metadata": {},
   "outputs": [
    {
     "name": "stdout",
     "output_type": "stream",
     "text": [
      "15\n"
     ]
    }
   ],
   "source": [
    "print(a+b)"
   ]
  },
  {
   "cell_type": "code",
   "execution_count": 3,
   "id": "cd3e6de8",
   "metadata": {},
   "outputs": [
    {
     "name": "stdout",
     "output_type": "stream",
     "text": [
      "1\n"
     ]
    }
   ],
   "source": [
    "print(a-b)"
   ]
  },
  {
   "cell_type": "code",
   "execution_count": 4,
   "id": "638dd8ae",
   "metadata": {},
   "outputs": [
    {
     "name": "stdout",
     "output_type": "stream",
     "text": [
      "56\n"
     ]
    }
   ],
   "source": [
    "print(a*b)"
   ]
  },
  {
   "cell_type": "code",
   "execution_count": 5,
   "id": "acc85ca8",
   "metadata": {},
   "outputs": [
    {
     "name": "stdout",
     "output_type": "stream",
     "text": [
      "1.1428571428571428\n"
     ]
    }
   ],
   "source": [
    "print(a/b)"
   ]
  },
  {
   "cell_type": "code",
   "execution_count": 6,
   "id": "121fb20b",
   "metadata": {},
   "outputs": [
    {
     "name": "stdout",
     "output_type": "stream",
     "text": [
      "1\n"
     ]
    }
   ],
   "source": [
    "print(a%b)"
   ]
  },
  {
   "cell_type": "code",
   "execution_count": 10,
   "id": "3421d9ef",
   "metadata": {},
   "outputs": [
    {
     "name": "stdout",
     "output_type": "stream",
     "text": [
      "7\n"
     ]
    }
   ],
   "source": [
    "print(7%8)"
   ]
  },
  {
   "cell_type": "code",
   "execution_count": 12,
   "id": "6e0411fa",
   "metadata": {},
   "outputs": [
    {
     "name": "stdout",
     "output_type": "stream",
     "text": [
      "1\n"
     ]
    }
   ],
   "source": [
    "print(8%7)"
   ]
  },
  {
   "cell_type": "code",
   "execution_count": 13,
   "id": "2a51603d",
   "metadata": {},
   "outputs": [
    {
     "name": "stdout",
     "output_type": "stream",
     "text": [
      "1.1428571428571428\n"
     ]
    }
   ],
   "source": [
    "print(a/b)"
   ]
  },
  {
   "cell_type": "code",
   "execution_count": 15,
   "id": "93d63088",
   "metadata": {},
   "outputs": [
    {
     "name": "stdout",
     "output_type": "stream",
     "text": [
      "1\n"
     ]
    }
   ],
   "source": [
    "print(a//b)"
   ]
  },
  {
   "cell_type": "code",
   "execution_count": 16,
   "id": "a5240dd0",
   "metadata": {},
   "outputs": [
    {
     "name": "stdout",
     "output_type": "stream",
     "text": [
      "4\n"
     ]
    }
   ],
   "source": [
    "print(2**2)"
   ]
  },
  {
   "cell_type": "code",
   "execution_count": 17,
   "id": "8ef5d38c",
   "metadata": {},
   "outputs": [
    {
     "name": "stdout",
     "output_type": "stream",
     "text": [
      "8\n"
     ]
    }
   ],
   "source": [
    "print(2**3)"
   ]
  },
  {
   "cell_type": "code",
   "execution_count": 18,
   "id": "7b0c65d7",
   "metadata": {},
   "outputs": [
    {
     "name": "stdout",
     "output_type": "stream",
     "text": [
      "262144\n"
     ]
    }
   ],
   "source": [
    "print(4**9)"
   ]
  },
  {
   "cell_type": "markdown",
   "id": "e1c14cb0",
   "metadata": {},
   "source": [
    "###### Comparison Operators"
   ]
  },
  {
   "cell_type": "code",
   "execution_count": 19,
   "id": "e1941a65",
   "metadata": {},
   "outputs": [
    {
     "name": "stdout",
     "output_type": "stream",
     "text": [
      "True\n"
     ]
    }
   ],
   "source": [
    "print(2 == 2)"
   ]
  },
  {
   "cell_type": "code",
   "execution_count": 20,
   "id": "871e5ee8",
   "metadata": {},
   "outputs": [
    {
     "name": "stdout",
     "output_type": "stream",
     "text": [
      "False\n"
     ]
    }
   ],
   "source": [
    "print(2 == 3)"
   ]
  },
  {
   "cell_type": "code",
   "execution_count": 21,
   "id": "b87eb1ec",
   "metadata": {},
   "outputs": [
    {
     "name": "stdout",
     "output_type": "stream",
     "text": [
      "True\n"
     ]
    }
   ],
   "source": [
    "print(2 != 3)"
   ]
  },
  {
   "cell_type": "code",
   "execution_count": 22,
   "id": "4723714a",
   "metadata": {},
   "outputs": [
    {
     "name": "stdout",
     "output_type": "stream",
     "text": [
      "False\n"
     ]
    }
   ],
   "source": [
    "print(2 != 2)"
   ]
  },
  {
   "cell_type": "code",
   "execution_count": 24,
   "id": "0ba135d5",
   "metadata": {},
   "outputs": [
    {
     "name": "stdout",
     "output_type": "stream",
     "text": [
      "True\n"
     ]
    }
   ],
   "source": [
    "print(2 < 3)"
   ]
  },
  {
   "cell_type": "code",
   "execution_count": 25,
   "id": "f32a6b4d",
   "metadata": {},
   "outputs": [
    {
     "name": "stdout",
     "output_type": "stream",
     "text": [
      "False\n"
     ]
    }
   ],
   "source": [
    "print(2 > 3)"
   ]
  },
  {
   "cell_type": "code",
   "execution_count": 26,
   "id": "c02cc979",
   "metadata": {},
   "outputs": [
    {
     "name": "stdout",
     "output_type": "stream",
     "text": [
      "True\n"
     ]
    }
   ],
   "source": [
    "print(2 <= 3)"
   ]
  },
  {
   "cell_type": "code",
   "execution_count": 27,
   "id": "fc018154",
   "metadata": {},
   "outputs": [
    {
     "name": "stdout",
     "output_type": "stream",
     "text": [
      "False\n"
     ]
    }
   ],
   "source": [
    "print(2 >= 3)"
   ]
  },
  {
   "cell_type": "code",
   "execution_count": 29,
   "id": "24b72784",
   "metadata": {},
   "outputs": [
    {
     "name": "stdout",
     "output_type": "stream",
     "text": [
      "True\n"
     ]
    }
   ],
   "source": [
    "print(3 <= 3)"
   ]
  },
  {
   "cell_type": "code",
   "execution_count": 30,
   "id": "f4be821d",
   "metadata": {},
   "outputs": [
    {
     "name": "stdout",
     "output_type": "stream",
     "text": [
      "True\n"
     ]
    }
   ],
   "source": [
    "print(3 >= 3)"
   ]
  },
  {
   "cell_type": "markdown",
   "id": "dd04e16b",
   "metadata": {},
   "source": [
    "###### Assignment Operators"
   ]
  },
  {
   "cell_type": "code",
   "execution_count": 52,
   "id": "315389d0",
   "metadata": {},
   "outputs": [
    {
     "name": "stdout",
     "output_type": "stream",
     "text": [
      "2\n"
     ]
    }
   ],
   "source": [
    "x = 1\n",
    "\n",
    "#x = x + 1\n",
    "x += 1\n",
    "print(x)"
   ]
  },
  {
   "cell_type": "code",
   "execution_count": 54,
   "id": "b7db586a",
   "metadata": {},
   "outputs": [
    {
     "name": "stdout",
     "output_type": "stream",
     "text": [
      "0\n"
     ]
    }
   ],
   "source": [
    "y = 1\n",
    "\n",
    "#y = y - 1\n",
    "y -= 1\n",
    "print(y)"
   ]
  },
  {
   "cell_type": "code",
   "execution_count": 56,
   "id": "67622d0c",
   "metadata": {},
   "outputs": [
    {
     "name": "stdout",
     "output_type": "stream",
     "text": [
      "1\n"
     ]
    }
   ],
   "source": [
    "z = 1\n",
    "#z = z * 1\n",
    "z *= 1\n",
    "print(z)"
   ]
  },
  {
   "cell_type": "code",
   "execution_count": 65,
   "id": "40437719",
   "metadata": {},
   "outputs": [
    {
     "name": "stdout",
     "output_type": "stream",
     "text": [
      "1\n"
     ]
    }
   ],
   "source": [
    "w = 1\n",
    "\n",
    "#w /= 1\n",
    "w //= 1\n",
    "print(w)"
   ]
  },
  {
   "cell_type": "markdown",
   "id": "aa2888c6",
   "metadata": {},
   "source": [
    "###### Logical Operators"
   ]
  },
  {
   "cell_type": "code",
   "execution_count": 66,
   "id": "a521db2a",
   "metadata": {},
   "outputs": [
    {
     "data": {
      "text/plain": [
       "True"
      ]
     },
     "execution_count": 66,
     "metadata": {},
     "output_type": "execute_result"
    }
   ],
   "source": [
    "True and True"
   ]
  },
  {
   "cell_type": "code",
   "execution_count": 67,
   "id": "70059c9c",
   "metadata": {},
   "outputs": [
    {
     "data": {
      "text/plain": [
       "False"
      ]
     },
     "execution_count": 67,
     "metadata": {},
     "output_type": "execute_result"
    }
   ],
   "source": [
    "True and False"
   ]
  },
  {
   "cell_type": "code",
   "execution_count": 68,
   "id": "4eae0c0c",
   "metadata": {},
   "outputs": [
    {
     "data": {
      "text/plain": [
       "False"
      ]
     },
     "execution_count": 68,
     "metadata": {},
     "output_type": "execute_result"
    }
   ],
   "source": [
    "False and True"
   ]
  },
  {
   "cell_type": "code",
   "execution_count": 69,
   "id": "9937f2d7",
   "metadata": {},
   "outputs": [
    {
     "data": {
      "text/plain": [
       "False"
      ]
     },
     "execution_count": 69,
     "metadata": {},
     "output_type": "execute_result"
    }
   ],
   "source": [
    "False and False"
   ]
  },
  {
   "cell_type": "code",
   "execution_count": 70,
   "id": "8d27a747",
   "metadata": {},
   "outputs": [
    {
     "data": {
      "text/plain": [
       "True"
      ]
     },
     "execution_count": 70,
     "metadata": {},
     "output_type": "execute_result"
    }
   ],
   "source": [
    "True or True"
   ]
  },
  {
   "cell_type": "code",
   "execution_count": 71,
   "id": "d1b64208",
   "metadata": {},
   "outputs": [
    {
     "data": {
      "text/plain": [
       "True"
      ]
     },
     "execution_count": 71,
     "metadata": {},
     "output_type": "execute_result"
    }
   ],
   "source": [
    "True or False"
   ]
  },
  {
   "cell_type": "code",
   "execution_count": 72,
   "id": "111402a9",
   "metadata": {},
   "outputs": [
    {
     "data": {
      "text/plain": [
       "True"
      ]
     },
     "execution_count": 72,
     "metadata": {},
     "output_type": "execute_result"
    }
   ],
   "source": [
    "False or True"
   ]
  },
  {
   "cell_type": "code",
   "execution_count": 73,
   "id": "6a5341e9",
   "metadata": {},
   "outputs": [
    {
     "data": {
      "text/plain": [
       "False"
      ]
     },
     "execution_count": 73,
     "metadata": {},
     "output_type": "execute_result"
    }
   ],
   "source": [
    "False or False"
   ]
  },
  {
   "cell_type": "code",
   "execution_count": 74,
   "id": "45aa6b16",
   "metadata": {},
   "outputs": [
    {
     "data": {
      "text/plain": [
       "False"
      ]
     },
     "execution_count": 74,
     "metadata": {},
     "output_type": "execute_result"
    }
   ],
   "source": [
    "not True"
   ]
  },
  {
   "cell_type": "code",
   "execution_count": 75,
   "id": "296b66fc",
   "metadata": {},
   "outputs": [
    {
     "data": {
      "text/plain": [
       "True"
      ]
     },
     "execution_count": 75,
     "metadata": {},
     "output_type": "execute_result"
    }
   ],
   "source": [
    "not False"
   ]
  },
  {
   "cell_type": "markdown",
   "id": "7c5d7126",
   "metadata": {},
   "source": [
    "###### Conditional Statements"
   ]
  },
  {
   "cell_type": "code",
   "execution_count": 79,
   "id": "fa3d8425",
   "metadata": {},
   "outputs": [
    {
     "name": "stdout",
     "output_type": "stream",
     "text": [
      "rainy\n",
      "Take an umbrella\n",
      "Take a raincoat\n"
     ]
    }
   ],
   "source": [
    "weather = input()\n",
    "\n",
    "if weather == \"rainy\":\n",
    "    #IF block executes only on TRUE\n",
    "    print(\"Take an umbrella\")\n",
    "    print(\"Take a raincoat\")"
   ]
  },
  {
   "cell_type": "code",
   "execution_count": 80,
   "id": "84283ce5",
   "metadata": {},
   "outputs": [
    {
     "name": "stdout",
     "output_type": "stream",
     "text": [
      "sunny\n",
      "Go and enjoy the day\n"
     ]
    }
   ],
   "source": [
    "weather = input()\n",
    "\n",
    "if weather == \"rainy\":\n",
    "    #IF block executes only on TRUE\n",
    "    print(\"Take an umbrella\")\n",
    "    print(\"Take a raincoat\")\n",
    "else:\n",
    "    print(\"Go and enjoy the day\")"
   ]
  },
  {
   "cell_type": "code",
   "execution_count": 81,
   "id": "28581d78",
   "metadata": {},
   "outputs": [
    {
     "name": "stdout",
     "output_type": "stream",
     "text": [
      "GREEN\n",
      "GOOOOOOOOOOOOOOOOO\n"
     ]
    }
   ],
   "source": [
    "light = input()\n",
    "\n",
    "if light == \"GREEN\":\n",
    "    print(\"GOOOOOOOOOOOOOOOOO\")\n",
    "elif light == \"RED\":\n",
    "    print(\"STOP STOP STOP STOP STOP\")\n",
    "elif light == \"ORANGE\":\n",
    "    print(\"SLOW DOWN SLOW SLOW SLOW\")\n",
    "else:\n",
    "    print(\"Pass a valid response\")"
   ]
  },
  {
   "cell_type": "markdown",
   "id": "b4e37383",
   "metadata": {},
   "source": [
    "##### Assignments"
   ]
  },
  {
   "cell_type": "code",
   "execution_count": 82,
   "id": "d74acc12",
   "metadata": {},
   "outputs": [
    {
     "name": "stdout",
     "output_type": "stream",
     "text": [
      "6\n",
      "4\n",
      "6\n"
     ]
    }
   ],
   "source": [
    "#Write a program to input two numbers(A & B) from user and print the maximum element among A & B in each line.\n",
    "\n",
    "A = int(input())\n",
    "B = int(input())\n",
    "\n",
    "if A >B:\n",
    "    print(A)\n",
    "else:\n",
    "    print(B)"
   ]
  },
  {
   "cell_type": "code",
   "execution_count": 83,
   "id": "41d56ed5",
   "metadata": {},
   "outputs": [
    {
     "name": "stdout",
     "output_type": "stream",
     "text": [
      "1\n",
      "1\n"
     ]
    }
   ],
   "source": [
    "#Write a program to input a number(A) from user and print 1 if it is positive, -1 if it is negative, 0 if it's neither positive nor negative.\n",
    "\n",
    "A = int(input())\n",
    "\n",
    "if A > 0:\n",
    "    print(\"1\")\n",
    "elif A == 0:\n",
    "    print(\"0\")\n",
    "else:\n",
    "    print(\"-1\")"
   ]
  },
  {
   "cell_type": "code",
   "execution_count": 84,
   "id": "770de619",
   "metadata": {},
   "outputs": [
    {
     "name": "stdout",
     "output_type": "stream",
     "text": [
      "2\n",
      "0\n"
     ]
    }
   ],
   "source": [
    "#Write a program to input an integer from user and print 1 if it is odd otherwise print 0.\n",
    "\n",
    "A = int(input())\n",
    "\n",
    "if A % 2 != 0:\n",
    "    print(\"1\")\n",
    "else:\n",
    "    print(\"0\")"
   ]
  },
  {
   "cell_type": "code",
   "execution_count": 86,
   "id": "2fb79aae",
   "metadata": {},
   "outputs": [
    {
     "name": "stdout",
     "output_type": "stream",
     "text": [
      "9\n",
      "September\n"
     ]
    }
   ],
   "source": [
    "#Write a program to input an integer(A) from user and print the Ath month of the year.\n",
    "\n",
    "#Months list: {January, February, March, April, May, June, July, August, September, October, November, December}\n",
    "\n",
    "A = input()\n",
    "\n",
    "if A == \"1\":\n",
    "    print(\"January\")\n",
    "elif A == \"2\":\n",
    "    print(\"February\")\n",
    "elif A == \"3\":\n",
    "    print(\"March\")\n",
    "elif A == \"4\":\n",
    "    print(\"April\")\n",
    "elif A == \"5\":\n",
    "    print(\"May\")\n",
    "elif A == \"6\":\n",
    "    print(\"June\")\n",
    "elif A == \"7\":\n",
    "    print(\"July\")\n",
    "elif A == \"8\":\n",
    "    print(\"August\")\n",
    "elif A == \"9\":\n",
    "    print(\"September\")\n",
    "elif A == \"10\":\n",
    "    print(\"October\")\n",
    "elif A == \"11\":\n",
    "    print(\"November\")\n",
    "elif A == \"12\":\n",
    "    print(\"December\")\n",
    "else:\n",
    "    print(\"Invalid Month\")\n"
   ]
  },
  {
   "cell_type": "code",
   "execution_count": 87,
   "id": "5fa8d509",
   "metadata": {},
   "outputs": [
    {
     "name": "stdout",
     "output_type": "stream",
     "text": [
      "9\n"
     ]
    }
   ],
   "source": [
    "A= (3 + 4) // 2 + 6\n",
    "\n",
    "print(A)"
   ]
  },
  {
   "cell_type": "code",
   "execution_count": 88,
   "id": "1d3793d8",
   "metadata": {},
   "outputs": [
    {
     "name": "stdout",
     "output_type": "stream",
     "text": [
      "60\n",
      "60\n",
      "60\n",
      "1\n"
     ]
    }
   ],
   "source": [
    "#You are given 3 integer angles(in degrees) A, B and C of a triangle. You have to tell whether the triangle is valid or not.\n",
    "\n",
    "A = int(input())\n",
    "B = int(input())\n",
    "C = int(input())\n",
    "\n",
    "if A + B + C == 180:\n",
    "    print(\"1\")\n",
    "else:\n",
    "    print(\"0\")"
   ]
  },
  {
   "cell_type": "code",
   "execution_count": 89,
   "id": "820ddda2",
   "metadata": {},
   "outputs": [
    {
     "name": "stdout",
     "output_type": "stream",
     "text": [
      "90\n",
      "100\n",
      "1\n",
      "10\n"
     ]
    }
   ],
   "source": [
    "#You are given the Cost Price C and Selling Price S of a Product. You have to tell whether there is a Profit or Loss. Also, calculate total profit or loss.\n",
    "\n",
    "C = int(input())\n",
    "S = int(input())\n",
    "\n",
    "if C < S:\n",
    "    print(\"1\")\n",
    "    Totalprofil = S - C\n",
    "    print(Totalprofil)\n",
    "elif C > S:\n",
    "    print(\"-1\")\n",
    "    TotalLoss = C - S\n",
    "    print(TotalLoss)\n",
    "else:\n",
    "    print(\"0\")"
   ]
  },
  {
   "cell_type": "markdown",
   "id": "9dc9898f",
   "metadata": {},
   "source": [
    "Write a program to input from user an integer(A) representing the rating of a person on a platform.\n",
    "\n",
    "You have to print the category of that person.\n",
    "If the rating is greater than or equal to 2100 then that person is \"grand master\".\n",
    "If the rating is greater than or equal to 1900 then that person is \"candidate master\".\n",
    "If the rating is greater than or equal to 1600 then that person is \"expert\".\n",
    "If the rating is greater than or equal to 1400 then that person is \"pupil\".\n",
    "If the rating is smaller than 1400 then that person is \"newbie\".\n",
    "NOTE: Print all the chars of the category of the person in lowercase if rating is odd otherwise print in UPPERCASE"
   ]
  },
  {
   "cell_type": "code",
   "execution_count": 90,
   "id": "7f51ffa0",
   "metadata": {},
   "outputs": [
    {
     "name": "stdout",
     "output_type": "stream",
     "text": [
      "90\n",
      "NEWBIE\n"
     ]
    }
   ],
   "source": [
    "rating = int(input())\n",
    "\n",
    "if rating >= 2100 and rating % 2 != 0:\n",
    "    print(\"grand master\")\n",
    "elif rating >= 2100:\n",
    "    print(\"GRAND MASTER\")\n",
    "elif rating >= 1900 and rating % 2 != 0:\n",
    "    print(\"candidate master\")\n",
    "elif rating >= 1900:\n",
    "    print(\"CANDIDATE MASTER\")\n",
    "elif rating >= 1600 and rating % 2 != 0:\n",
    "    print(\"expert\")\n",
    "elif rating >= 1600:   \n",
    "    print(\"EXPERT\")\n",
    "elif rating >= 1400 and rating % 2 != 0:\n",
    "    print(\"pupil\")\n",
    "elif rating >= 1400:\n",
    "    print(\"PUPIL\")\n",
    "elif rating < 1400 and rating % 2 != 0:\n",
    "    print(\"newbie\")\n",
    "else:\n",
    "    print(\"NEWBIE\")"
   ]
  },
  {
   "cell_type": "code",
   "execution_count": null,
   "id": "5fb17b93",
   "metadata": {},
   "outputs": [],
   "source": []
  }
 ],
 "metadata": {
  "kernelspec": {
   "display_name": "Python 3 (ipykernel)",
   "language": "python",
   "name": "python3"
  },
  "language_info": {
   "codemirror_mode": {
    "name": "ipython",
    "version": 3
   },
   "file_extension": ".py",
   "mimetype": "text/x-python",
   "name": "python",
   "nbconvert_exporter": "python",
   "pygments_lexer": "ipython3",
   "version": "3.10.1"
  }
 },
 "nbformat": 4,
 "nbformat_minor": 5
}
